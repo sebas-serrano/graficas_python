{
  "cells": [
    {
      "cell_type": "markdown",
      "metadata": {
        "id": "GJ1jpKGYVQkL"
      },
      "source": [
        "**SUBTEMA 3.1 - GRÁFICAS ESTÁTICAS DE DATOS EN PYTHON**\n",
        "\n",
        "---\n",
        "\n",
        "**SESIÓN: 1**"
      ]
    },
    {
      "cell_type": "code",
      "execution_count": null,
      "metadata": {
        "id": "yNS_hRi2J5Ir"
      },
      "outputs": [],
      "source": [
        "import pandas as pd"
      ]
    },
    {
      "cell_type": "markdown",
      "metadata": {
        "id": "m3uFwVSKIkVk"
      },
      "source": [
        "# **TEMA 1. Exploración y validación de datos**"
      ]
    },
    {
      "cell_type": "markdown",
      "metadata": {
        "id": "HCK2qVuwetlR"
      },
      "source": [
        "## 1.1 Rangos típicos, categorías y valores faltantes"
      ]
    },
    {
      "cell_type": "markdown",
      "metadata": {
        "id": "EQg4IFVG9XWs"
      },
      "source": [
        "Sube a tu drive los dos archivos csv que el instructor te proporcionará y crea una nueva libreta en Colab para:\n",
        "\n",
        "*   Leer dichos archivos en dos dataframes: `countries` y `cities`\n"
      ]
    },
    {
      "cell_type": "code",
      "execution_count": null,
      "metadata": {
        "colab": {
          "base_uri": "https://localhost:8080/",
          "height": 423
        },
        "id": "Xy0tKNfyWs0k",
        "outputId": "14ad2576-1af8-4468-d764-80134b2a4764"
      },
      "outputs": [
        {
          "output_type": "execute_result",
          "data": {
            "text/plain": [
              "    Code          Name      Continent                     Region  SurfaceArea  \\\n",
              "0    ABW         Aruba  North America                  Caribbean        193.0   \n",
              "1    AFG   Afghanistan           Asia  Southern and Central Asia     652090.0   \n",
              "2    AGO        Angola         Africa             Central Africa    1246700.0   \n",
              "3    AIA      Anguilla  North America                  Caribbean         96.0   \n",
              "4    ALB       Albania         Europe            Southern Europe      28748.0   \n",
              "..   ...           ...            ...                        ...          ...   \n",
              "234  YEM         Yemen           Asia                Middle East     527968.0   \n",
              "235  YUG    Yugoslavia         Europe            Southern Europe     102173.0   \n",
              "236  ZAF  South Africa         Africa            Southern Africa    1221037.0   \n",
              "237  ZMB        Zambia         Africa             Eastern Africa     752618.0   \n",
              "238  ZWE      Zimbabwe         Africa             Eastern Africa     390757.0   \n",
              "\n",
              "     IndepYear  Population  LifeExpectancy       GNP    GNPOld  \\\n",
              "0          NaN      103000            78.4     828.0     793.0   \n",
              "1       1919.0    22720000            45.9    5976.0       NaN   \n",
              "2       1975.0    12878000            38.3    6648.0    7984.0   \n",
              "3          NaN        8000            76.1      63.2       NaN   \n",
              "4       1912.0     3401200            71.6    3205.0    2500.0   \n",
              "..         ...         ...             ...       ...       ...   \n",
              "234     1918.0    18112000            59.8    6041.0    5729.0   \n",
              "235     1918.0    10640000            72.4   17000.0       NaN   \n",
              "236     1910.0    40377000            51.1  116729.0  129092.0   \n",
              "237     1964.0     9169000            37.2    3377.0    3922.0   \n",
              "238     1980.0    11669000            37.8    5951.0    8670.0   \n",
              "\n",
              "                 LocalName                                GovernmentForm  \\\n",
              "0                    Aruba  Nonmetropolitan Territory of The Netherlands   \n",
              "1    Afganistan/Afqanestan                               Islamic Emirate   \n",
              "2                   Angola                                      Republic   \n",
              "3                 Anguilla                 Dependent Territory of the UK   \n",
              "4                Shqipëria                                      Republic   \n",
              "..                     ...                                           ...   \n",
              "234               Al-Yaman                                      Republic   \n",
              "235            Jugoslavija                              Federal Republic   \n",
              "236           South Africa                                      Republic   \n",
              "237                 Zambia                                      Republic   \n",
              "238               Zimbabwe                                      Republic   \n",
              "\n",
              "     Capital  \n",
              "0      129.0  \n",
              "1        1.0  \n",
              "2       56.0  \n",
              "3       62.0  \n",
              "4       34.0  \n",
              "..       ...  \n",
              "234   1780.0  \n",
              "235   1792.0  \n",
              "236    716.0  \n",
              "237   3162.0  \n",
              "238   4068.0  \n",
              "\n",
              "[239 rows x 13 columns]"
            ],
            "text/html": [
              "\n",
              "  <div id=\"df-72b1a12f-da86-402a-841a-84fddfcc8dad\" class=\"colab-df-container\">\n",
              "    <div>\n",
              "<style scoped>\n",
              "    .dataframe tbody tr th:only-of-type {\n",
              "        vertical-align: middle;\n",
              "    }\n",
              "\n",
              "    .dataframe tbody tr th {\n",
              "        vertical-align: top;\n",
              "    }\n",
              "\n",
              "    .dataframe thead th {\n",
              "        text-align: right;\n",
              "    }\n",
              "</style>\n",
              "<table border=\"1\" class=\"dataframe\">\n",
              "  <thead>\n",
              "    <tr style=\"text-align: right;\">\n",
              "      <th></th>\n",
              "      <th>Code</th>\n",
              "      <th>Name</th>\n",
              "      <th>Continent</th>\n",
              "      <th>Region</th>\n",
              "      <th>SurfaceArea</th>\n",
              "      <th>IndepYear</th>\n",
              "      <th>Population</th>\n",
              "      <th>LifeExpectancy</th>\n",
              "      <th>GNP</th>\n",
              "      <th>GNPOld</th>\n",
              "      <th>LocalName</th>\n",
              "      <th>GovernmentForm</th>\n",
              "      <th>Capital</th>\n",
              "    </tr>\n",
              "  </thead>\n",
              "  <tbody>\n",
              "    <tr>\n",
              "      <th>0</th>\n",
              "      <td>ABW</td>\n",
              "      <td>Aruba</td>\n",
              "      <td>North America</td>\n",
              "      <td>Caribbean</td>\n",
              "      <td>193.0</td>\n",
              "      <td>NaN</td>\n",
              "      <td>103000</td>\n",
              "      <td>78.4</td>\n",
              "      <td>828.0</td>\n",
              "      <td>793.0</td>\n",
              "      <td>Aruba</td>\n",
              "      <td>Nonmetropolitan Territory of The Netherlands</td>\n",
              "      <td>129.0</td>\n",
              "    </tr>\n",
              "    <tr>\n",
              "      <th>1</th>\n",
              "      <td>AFG</td>\n",
              "      <td>Afghanistan</td>\n",
              "      <td>Asia</td>\n",
              "      <td>Southern and Central Asia</td>\n",
              "      <td>652090.0</td>\n",
              "      <td>1919.0</td>\n",
              "      <td>22720000</td>\n",
              "      <td>45.9</td>\n",
              "      <td>5976.0</td>\n",
              "      <td>NaN</td>\n",
              "      <td>Afganistan/Afqanestan</td>\n",
              "      <td>Islamic Emirate</td>\n",
              "      <td>1.0</td>\n",
              "    </tr>\n",
              "    <tr>\n",
              "      <th>2</th>\n",
              "      <td>AGO</td>\n",
              "      <td>Angola</td>\n",
              "      <td>Africa</td>\n",
              "      <td>Central Africa</td>\n",
              "      <td>1246700.0</td>\n",
              "      <td>1975.0</td>\n",
              "      <td>12878000</td>\n",
              "      <td>38.3</td>\n",
              "      <td>6648.0</td>\n",
              "      <td>7984.0</td>\n",
              "      <td>Angola</td>\n",
              "      <td>Republic</td>\n",
              "      <td>56.0</td>\n",
              "    </tr>\n",
              "    <tr>\n",
              "      <th>3</th>\n",
              "      <td>AIA</td>\n",
              "      <td>Anguilla</td>\n",
              "      <td>North America</td>\n",
              "      <td>Caribbean</td>\n",
              "      <td>96.0</td>\n",
              "      <td>NaN</td>\n",
              "      <td>8000</td>\n",
              "      <td>76.1</td>\n",
              "      <td>63.2</td>\n",
              "      <td>NaN</td>\n",
              "      <td>Anguilla</td>\n",
              "      <td>Dependent Territory of the UK</td>\n",
              "      <td>62.0</td>\n",
              "    </tr>\n",
              "    <tr>\n",
              "      <th>4</th>\n",
              "      <td>ALB</td>\n",
              "      <td>Albania</td>\n",
              "      <td>Europe</td>\n",
              "      <td>Southern Europe</td>\n",
              "      <td>28748.0</td>\n",
              "      <td>1912.0</td>\n",
              "      <td>3401200</td>\n",
              "      <td>71.6</td>\n",
              "      <td>3205.0</td>\n",
              "      <td>2500.0</td>\n",
              "      <td>Shqipëria</td>\n",
              "      <td>Republic</td>\n",
              "      <td>34.0</td>\n",
              "    </tr>\n",
              "    <tr>\n",
              "      <th>...</th>\n",
              "      <td>...</td>\n",
              "      <td>...</td>\n",
              "      <td>...</td>\n",
              "      <td>...</td>\n",
              "      <td>...</td>\n",
              "      <td>...</td>\n",
              "      <td>...</td>\n",
              "      <td>...</td>\n",
              "      <td>...</td>\n",
              "      <td>...</td>\n",
              "      <td>...</td>\n",
              "      <td>...</td>\n",
              "      <td>...</td>\n",
              "    </tr>\n",
              "    <tr>\n",
              "      <th>234</th>\n",
              "      <td>YEM</td>\n",
              "      <td>Yemen</td>\n",
              "      <td>Asia</td>\n",
              "      <td>Middle East</td>\n",
              "      <td>527968.0</td>\n",
              "      <td>1918.0</td>\n",
              "      <td>18112000</td>\n",
              "      <td>59.8</td>\n",
              "      <td>6041.0</td>\n",
              "      <td>5729.0</td>\n",
              "      <td>Al-Yaman</td>\n",
              "      <td>Republic</td>\n",
              "      <td>1780.0</td>\n",
              "    </tr>\n",
              "    <tr>\n",
              "      <th>235</th>\n",
              "      <td>YUG</td>\n",
              "      <td>Yugoslavia</td>\n",
              "      <td>Europe</td>\n",
              "      <td>Southern Europe</td>\n",
              "      <td>102173.0</td>\n",
              "      <td>1918.0</td>\n",
              "      <td>10640000</td>\n",
              "      <td>72.4</td>\n",
              "      <td>17000.0</td>\n",
              "      <td>NaN</td>\n",
              "      <td>Jugoslavija</td>\n",
              "      <td>Federal Republic</td>\n",
              "      <td>1792.0</td>\n",
              "    </tr>\n",
              "    <tr>\n",
              "      <th>236</th>\n",
              "      <td>ZAF</td>\n",
              "      <td>South Africa</td>\n",
              "      <td>Africa</td>\n",
              "      <td>Southern Africa</td>\n",
              "      <td>1221037.0</td>\n",
              "      <td>1910.0</td>\n",
              "      <td>40377000</td>\n",
              "      <td>51.1</td>\n",
              "      <td>116729.0</td>\n",
              "      <td>129092.0</td>\n",
              "      <td>South Africa</td>\n",
              "      <td>Republic</td>\n",
              "      <td>716.0</td>\n",
              "    </tr>\n",
              "    <tr>\n",
              "      <th>237</th>\n",
              "      <td>ZMB</td>\n",
              "      <td>Zambia</td>\n",
              "      <td>Africa</td>\n",
              "      <td>Eastern Africa</td>\n",
              "      <td>752618.0</td>\n",
              "      <td>1964.0</td>\n",
              "      <td>9169000</td>\n",
              "      <td>37.2</td>\n",
              "      <td>3377.0</td>\n",
              "      <td>3922.0</td>\n",
              "      <td>Zambia</td>\n",
              "      <td>Republic</td>\n",
              "      <td>3162.0</td>\n",
              "    </tr>\n",
              "    <tr>\n",
              "      <th>238</th>\n",
              "      <td>ZWE</td>\n",
              "      <td>Zimbabwe</td>\n",
              "      <td>Africa</td>\n",
              "      <td>Eastern Africa</td>\n",
              "      <td>390757.0</td>\n",
              "      <td>1980.0</td>\n",
              "      <td>11669000</td>\n",
              "      <td>37.8</td>\n",
              "      <td>5951.0</td>\n",
              "      <td>8670.0</td>\n",
              "      <td>Zimbabwe</td>\n",
              "      <td>Republic</td>\n",
              "      <td>4068.0</td>\n",
              "    </tr>\n",
              "  </tbody>\n",
              "</table>\n",
              "<p>239 rows × 13 columns</p>\n",
              "</div>\n",
              "    <div class=\"colab-df-buttons\">\n",
              "\n",
              "  <div class=\"colab-df-container\">\n",
              "    <button class=\"colab-df-convert\" onclick=\"convertToInteractive('df-72b1a12f-da86-402a-841a-84fddfcc8dad')\"\n",
              "            title=\"Convert this dataframe to an interactive table.\"\n",
              "            style=\"display:none;\">\n",
              "\n",
              "  <svg xmlns=\"http://www.w3.org/2000/svg\" height=\"24px\" viewBox=\"0 -960 960 960\">\n",
              "    <path d=\"M120-120v-720h720v720H120Zm60-500h600v-160H180v160Zm220 220h160v-160H400v160Zm0 220h160v-160H400v160ZM180-400h160v-160H180v160Zm440 0h160v-160H620v160ZM180-180h160v-160H180v160Zm440 0h160v-160H620v160Z\"/>\n",
              "  </svg>\n",
              "    </button>\n",
              "\n",
              "  <style>\n",
              "    .colab-df-container {\n",
              "      display:flex;\n",
              "      gap: 12px;\n",
              "    }\n",
              "\n",
              "    .colab-df-convert {\n",
              "      background-color: #E8F0FE;\n",
              "      border: none;\n",
              "      border-radius: 50%;\n",
              "      cursor: pointer;\n",
              "      display: none;\n",
              "      fill: #1967D2;\n",
              "      height: 32px;\n",
              "      padding: 0 0 0 0;\n",
              "      width: 32px;\n",
              "    }\n",
              "\n",
              "    .colab-df-convert:hover {\n",
              "      background-color: #E2EBFA;\n",
              "      box-shadow: 0px 1px 2px rgba(60, 64, 67, 0.3), 0px 1px 3px 1px rgba(60, 64, 67, 0.15);\n",
              "      fill: #174EA6;\n",
              "    }\n",
              "\n",
              "    .colab-df-buttons div {\n",
              "      margin-bottom: 4px;\n",
              "    }\n",
              "\n",
              "    [theme=dark] .colab-df-convert {\n",
              "      background-color: #3B4455;\n",
              "      fill: #D2E3FC;\n",
              "    }\n",
              "\n",
              "    [theme=dark] .colab-df-convert:hover {\n",
              "      background-color: #434B5C;\n",
              "      box-shadow: 0px 1px 3px 1px rgba(0, 0, 0, 0.15);\n",
              "      filter: drop-shadow(0px 1px 2px rgba(0, 0, 0, 0.3));\n",
              "      fill: #FFFFFF;\n",
              "    }\n",
              "  </style>\n",
              "\n",
              "    <script>\n",
              "      const buttonEl =\n",
              "        document.querySelector('#df-72b1a12f-da86-402a-841a-84fddfcc8dad button.colab-df-convert');\n",
              "      buttonEl.style.display =\n",
              "        google.colab.kernel.accessAllowed ? 'block' : 'none';\n",
              "\n",
              "      async function convertToInteractive(key) {\n",
              "        const element = document.querySelector('#df-72b1a12f-da86-402a-841a-84fddfcc8dad');\n",
              "        const dataTable =\n",
              "          await google.colab.kernel.invokeFunction('convertToInteractive',\n",
              "                                                    [key], {});\n",
              "        if (!dataTable) return;\n",
              "\n",
              "        const docLinkHtml = 'Like what you see? Visit the ' +\n",
              "          '<a target=\"_blank\" href=https://colab.research.google.com/notebooks/data_table.ipynb>data table notebook</a>'\n",
              "          + ' to learn more about interactive tables.';\n",
              "        element.innerHTML = '';\n",
              "        dataTable['output_type'] = 'display_data';\n",
              "        await google.colab.output.renderOutput(dataTable, element);\n",
              "        const docLink = document.createElement('div');\n",
              "        docLink.innerHTML = docLinkHtml;\n",
              "        element.appendChild(docLink);\n",
              "      }\n",
              "    </script>\n",
              "  </div>\n",
              "\n",
              "\n",
              "    <div id=\"df-d886beeb-7425-497b-bda2-304d41e37fd7\">\n",
              "      <button class=\"colab-df-quickchart\" onclick=\"quickchart('df-d886beeb-7425-497b-bda2-304d41e37fd7')\"\n",
              "                title=\"Suggest charts\"\n",
              "                style=\"display:none;\">\n",
              "\n",
              "<svg xmlns=\"http://www.w3.org/2000/svg\" height=\"24px\"viewBox=\"0 0 24 24\"\n",
              "     width=\"24px\">\n",
              "    <g>\n",
              "        <path d=\"M19 3H5c-1.1 0-2 .9-2 2v14c0 1.1.9 2 2 2h14c1.1 0 2-.9 2-2V5c0-1.1-.9-2-2-2zM9 17H7v-7h2v7zm4 0h-2V7h2v10zm4 0h-2v-4h2v4z\"/>\n",
              "    </g>\n",
              "</svg>\n",
              "      </button>\n",
              "\n",
              "<style>\n",
              "  .colab-df-quickchart {\n",
              "      --bg-color: #E8F0FE;\n",
              "      --fill-color: #1967D2;\n",
              "      --hover-bg-color: #E2EBFA;\n",
              "      --hover-fill-color: #174EA6;\n",
              "      --disabled-fill-color: #AAA;\n",
              "      --disabled-bg-color: #DDD;\n",
              "  }\n",
              "\n",
              "  [theme=dark] .colab-df-quickchart {\n",
              "      --bg-color: #3B4455;\n",
              "      --fill-color: #D2E3FC;\n",
              "      --hover-bg-color: #434B5C;\n",
              "      --hover-fill-color: #FFFFFF;\n",
              "      --disabled-bg-color: #3B4455;\n",
              "      --disabled-fill-color: #666;\n",
              "  }\n",
              "\n",
              "  .colab-df-quickchart {\n",
              "    background-color: var(--bg-color);\n",
              "    border: none;\n",
              "    border-radius: 50%;\n",
              "    cursor: pointer;\n",
              "    display: none;\n",
              "    fill: var(--fill-color);\n",
              "    height: 32px;\n",
              "    padding: 0;\n",
              "    width: 32px;\n",
              "  }\n",
              "\n",
              "  .colab-df-quickchart:hover {\n",
              "    background-color: var(--hover-bg-color);\n",
              "    box-shadow: 0 1px 2px rgba(60, 64, 67, 0.3), 0 1px 3px 1px rgba(60, 64, 67, 0.15);\n",
              "    fill: var(--button-hover-fill-color);\n",
              "  }\n",
              "\n",
              "  .colab-df-quickchart-complete:disabled,\n",
              "  .colab-df-quickchart-complete:disabled:hover {\n",
              "    background-color: var(--disabled-bg-color);\n",
              "    fill: var(--disabled-fill-color);\n",
              "    box-shadow: none;\n",
              "  }\n",
              "\n",
              "  .colab-df-spinner {\n",
              "    border: 2px solid var(--fill-color);\n",
              "    border-color: transparent;\n",
              "    border-bottom-color: var(--fill-color);\n",
              "    animation:\n",
              "      spin 1s steps(1) infinite;\n",
              "  }\n",
              "\n",
              "  @keyframes spin {\n",
              "    0% {\n",
              "      border-color: transparent;\n",
              "      border-bottom-color: var(--fill-color);\n",
              "      border-left-color: var(--fill-color);\n",
              "    }\n",
              "    20% {\n",
              "      border-color: transparent;\n",
              "      border-left-color: var(--fill-color);\n",
              "      border-top-color: var(--fill-color);\n",
              "    }\n",
              "    30% {\n",
              "      border-color: transparent;\n",
              "      border-left-color: var(--fill-color);\n",
              "      border-top-color: var(--fill-color);\n",
              "      border-right-color: var(--fill-color);\n",
              "    }\n",
              "    40% {\n",
              "      border-color: transparent;\n",
              "      border-right-color: var(--fill-color);\n",
              "      border-top-color: var(--fill-color);\n",
              "    }\n",
              "    60% {\n",
              "      border-color: transparent;\n",
              "      border-right-color: var(--fill-color);\n",
              "    }\n",
              "    80% {\n",
              "      border-color: transparent;\n",
              "      border-right-color: var(--fill-color);\n",
              "      border-bottom-color: var(--fill-color);\n",
              "    }\n",
              "    90% {\n",
              "      border-color: transparent;\n",
              "      border-bottom-color: var(--fill-color);\n",
              "    }\n",
              "  }\n",
              "</style>\n",
              "\n",
              "      <script>\n",
              "        async function quickchart(key) {\n",
              "          const quickchartButtonEl =\n",
              "            document.querySelector('#' + key + ' button');\n",
              "          quickchartButtonEl.disabled = true;  // To prevent multiple clicks.\n",
              "          quickchartButtonEl.classList.add('colab-df-spinner');\n",
              "          try {\n",
              "            const charts = await google.colab.kernel.invokeFunction(\n",
              "                'suggestCharts', [key], {});\n",
              "          } catch (error) {\n",
              "            console.error('Error during call to suggestCharts:', error);\n",
              "          }\n",
              "          quickchartButtonEl.classList.remove('colab-df-spinner');\n",
              "          quickchartButtonEl.classList.add('colab-df-quickchart-complete');\n",
              "        }\n",
              "        (() => {\n",
              "          let quickchartButtonEl =\n",
              "            document.querySelector('#df-d886beeb-7425-497b-bda2-304d41e37fd7 button');\n",
              "          quickchartButtonEl.style.display =\n",
              "            google.colab.kernel.accessAllowed ? 'block' : 'none';\n",
              "        })();\n",
              "      </script>\n",
              "    </div>\n",
              "\n",
              "  <div id=\"id_c867fbce-2567-4df4-81e2-a665a42e04fd\">\n",
              "    <style>\n",
              "      .colab-df-generate {\n",
              "        background-color: #E8F0FE;\n",
              "        border: none;\n",
              "        border-radius: 50%;\n",
              "        cursor: pointer;\n",
              "        display: none;\n",
              "        fill: #1967D2;\n",
              "        height: 32px;\n",
              "        padding: 0 0 0 0;\n",
              "        width: 32px;\n",
              "      }\n",
              "\n",
              "      .colab-df-generate:hover {\n",
              "        background-color: #E2EBFA;\n",
              "        box-shadow: 0px 1px 2px rgba(60, 64, 67, 0.3), 0px 1px 3px 1px rgba(60, 64, 67, 0.15);\n",
              "        fill: #174EA6;\n",
              "      }\n",
              "\n",
              "      [theme=dark] .colab-df-generate {\n",
              "        background-color: #3B4455;\n",
              "        fill: #D2E3FC;\n",
              "      }\n",
              "\n",
              "      [theme=dark] .colab-df-generate:hover {\n",
              "        background-color: #434B5C;\n",
              "        box-shadow: 0px 1px 3px 1px rgba(0, 0, 0, 0.15);\n",
              "        filter: drop-shadow(0px 1px 2px rgba(0, 0, 0, 0.3));\n",
              "        fill: #FFFFFF;\n",
              "      }\n",
              "    </style>\n",
              "    <button class=\"colab-df-generate\" onclick=\"generateWithVariable('countries')\"\n",
              "            title=\"Generate code using this dataframe.\"\n",
              "            style=\"display:none;\">\n",
              "\n",
              "  <svg xmlns=\"http://www.w3.org/2000/svg\" height=\"24px\"viewBox=\"0 0 24 24\"\n",
              "       width=\"24px\">\n",
              "    <path d=\"M7,19H8.4L18.45,9,17,7.55,7,17.6ZM5,21V16.75L18.45,3.32a2,2,0,0,1,2.83,0l1.4,1.43a1.91,1.91,0,0,1,.58,1.4,1.91,1.91,0,0,1-.58,1.4L9.25,21ZM18.45,9,17,7.55Zm-12,3A5.31,5.31,0,0,0,4.9,8.1,5.31,5.31,0,0,0,1,6.5,5.31,5.31,0,0,0,4.9,4.9,5.31,5.31,0,0,0,6.5,1,5.31,5.31,0,0,0,8.1,4.9,5.31,5.31,0,0,0,12,6.5,5.46,5.46,0,0,0,6.5,12Z\"/>\n",
              "  </svg>\n",
              "    </button>\n",
              "    <script>\n",
              "      (() => {\n",
              "      const buttonEl =\n",
              "        document.querySelector('#id_c867fbce-2567-4df4-81e2-a665a42e04fd button.colab-df-generate');\n",
              "      buttonEl.style.display =\n",
              "        google.colab.kernel.accessAllowed ? 'block' : 'none';\n",
              "\n",
              "      buttonEl.onclick = () => {\n",
              "        google.colab.notebook.generateWithVariable('countries');\n",
              "      }\n",
              "      })();\n",
              "    </script>\n",
              "  </div>\n",
              "\n",
              "    </div>\n",
              "  </div>\n"
            ],
            "application/vnd.google.colaboratory.intrinsic+json": {
              "type": "dataframe",
              "variable_name": "countries",
              "summary": "{\n  \"name\": \"countries\",\n  \"rows\": 239,\n  \"fields\": [\n    {\n      \"column\": \"Code\",\n      \"properties\": {\n        \"dtype\": \"string\",\n        \"num_unique_values\": 239,\n        \"samples\": [\n          \"BHS\",\n          \"ANT\",\n          \"HMD\"\n        ],\n        \"semantic_type\": \"\",\n        \"description\": \"\"\n      }\n    },\n    {\n      \"column\": \"Name\",\n      \"properties\": {\n        \"dtype\": \"string\",\n        \"num_unique_values\": 239,\n        \"samples\": [\n          \"Bahamas\",\n          \"Netherlands Antilles\",\n          \"Heard Island and McDonald Islands\"\n        ],\n        \"semantic_type\": \"\",\n        \"description\": \"\"\n      }\n    },\n    {\n      \"column\": \"Continent\",\n      \"properties\": {\n        \"dtype\": \"category\",\n        \"num_unique_values\": 7,\n        \"samples\": [\n          \"North America\",\n          \"Asia\",\n          \"Oceania\"\n        ],\n        \"semantic_type\": \"\",\n        \"description\": \"\"\n      }\n    },\n    {\n      \"column\": \"Region\",\n      \"properties\": {\n        \"dtype\": \"category\",\n        \"num_unique_values\": 25,\n        \"samples\": [\n          \"Australia and New Zealand\",\n          \"Southern Africa\",\n          \"Caribbean\"\n        ],\n        \"semantic_type\": \"\",\n        \"description\": \"\"\n      }\n    },\n    {\n      \"column\": \"SurfaceArea\",\n      \"properties\": {\n        \"dtype\": \"number\",\n        \"std\": 1924139.8521283683,\n        \"min\": 0.4,\n        \"max\": 17075400.0,\n        \"num_unique_values\": 238,\n        \"samples\": [\n          261.0,\n          83859.0,\n          5130.0\n        ],\n        \"semantic_type\": \"\",\n        \"description\": \"\"\n      }\n    },\n    {\n      \"column\": \"IndepYear\",\n      \"properties\": {\n        \"dtype\": \"number\",\n        \"std\": 420.831369761977,\n        \"min\": -1523.0,\n        \"max\": 1994.0,\n        \"num_unique_values\": 88,\n        \"samples\": [\n          1811.0,\n          1919.0,\n          1902.0\n        ],\n        \"semantic_type\": \"\",\n        \"description\": \"\"\n      }\n    },\n    {\n      \"column\": \"Population\",\n      \"properties\": {\n        \"dtype\": \"number\",\n        \"std\": 109339817,\n        \"min\": 0,\n        \"max\": 1277558000,\n        \"num_unique_values\": 226,\n        \"samples\": [\n          3520000,\n          10097000,\n          3698500\n        ],\n        \"semantic_type\": \"\",\n        \"description\": \"\"\n      }\n    },\n    {\n      \"column\": \"LifeExpectancy\",\n      \"properties\": {\n        \"dtype\": \"number\",\n        \"std\": 11.519267100498716,\n        \"min\": 37.2,\n        \"max\": 83.5,\n        \"num_unique_values\": 160,\n        \"samples\": [\n          37.5,\n          71.0,\n          50.5\n        ],\n        \"semantic_type\": \"\",\n        \"description\": \"\"\n      }\n    },\n    {\n      \"column\": \"GNP\",\n      \"properties\": {\n        \"dtype\": \"number\",\n        \"std\": 637997.578787318,\n        \"min\": 0.0,\n        \"max\": 8510700.0,\n        \"num_unique_values\": 214,\n        \"samples\": [\n          1813.0,\n          8005.0,\n          1536.0\n        ],\n        \"semantic_type\": \"\",\n        \"description\": \"\"\n      }\n    },\n    {\n      \"column\": \"GNPOld\",\n      \"properties\": {\n        \"dtype\": \"number\",\n        \"std\": 720468.9053030757,\n        \"min\": 157.0,\n        \"max\": 8110900.0,\n        \"num_unique_values\": 178,\n        \"samples\": [\n          2190.0,\n          243.0,\n          146171.0\n        ],\n        \"semantic_type\": \"\",\n        \"description\": \"\"\n      }\n    },\n    {\n      \"column\": \"LocalName\",\n      \"properties\": {\n        \"dtype\": \"string\",\n        \"num_unique_values\": 239,\n        \"samples\": [\n          \"The Bahamas\",\n          \"Nederlandse Antillen\",\n          \"Heard and McDonald Islands\"\n        ],\n        \"semantic_type\": \"\",\n        \"description\": \"\"\n      }\n    },\n    {\n      \"column\": \"GovernmentForm\",\n      \"properties\": {\n        \"dtype\": \"category\",\n        \"num_unique_values\": 35,\n        \"samples\": [\n          \"Constitutional Monarchy (Emirate)\",\n          \"Monarchy (Sultanate)\",\n          \"Special Administrative Region of China\"\n        ],\n        \"semantic_type\": \"\",\n        \"description\": \"\"\n      }\n    },\n    {\n      \"column\": \"Capital\",\n      \"properties\": {\n        \"dtype\": \"number\",\n        \"std\": 1184.095609497375,\n        \"min\": 1.0,\n        \"max\": 4074.0,\n        \"num_unique_values\": 232,\n        \"samples\": [\n          3066.0,\n          3236.0,\n          126.0\n        ],\n        \"semantic_type\": \"\",\n        \"description\": \"\"\n      }\n    }\n  ]\n}"
            }
          },
          "metadata": {},
          "execution_count": 6
        }
      ],
      "source": [
        "countries = pd.read_csv('/content/drive/MyDrive/Colab Notebooks/UFO/world_table_country.csv')\n",
        "countries"
      ]
    },
    {
      "cell_type": "code",
      "execution_count": null,
      "metadata": {
        "colab": {
          "base_uri": "https://localhost:8080/",
          "height": 423
        },
        "id": "vW11NZiDXJIj",
        "outputId": "1dfb33b0-0f36-44b7-fe38-0ba9a0678313"
      },
      "outputs": [
        {
          "output_type": "execute_result",
          "data": {
            "text/plain": [
              "        ID            Name CountryCode       District  Population\n",
              "0        1           Kabul         AFG          Kabol     1780000\n",
              "1        2        Qandahar         AFG       Qandahar      237500\n",
              "2        3           Herat         AFG          Herat      186800\n",
              "3        4  Mazar-e-Sharif         AFG          Balkh      127800\n",
              "4        5       Amsterdam         NLD  Noord-Holland      731200\n",
              "...    ...             ...         ...            ...         ...\n",
              "4074  4075      Khan Yunis         PSE     Khan Yunis      123175\n",
              "4075  4076          Hebron         PSE         Hebron      119401\n",
              "4076  4077        Jabaliya         PSE     North Gaza      113901\n",
              "4077  4078          Nablus         PSE         Nablus      100231\n",
              "4078  4079           Rafah         PSE          Rafah       92020\n",
              "\n",
              "[4079 rows x 5 columns]"
            ],
            "text/html": [
              "\n",
              "  <div id=\"df-614917cb-b104-4ce5-a73c-9ccb41257352\" class=\"colab-df-container\">\n",
              "    <div>\n",
              "<style scoped>\n",
              "    .dataframe tbody tr th:only-of-type {\n",
              "        vertical-align: middle;\n",
              "    }\n",
              "\n",
              "    .dataframe tbody tr th {\n",
              "        vertical-align: top;\n",
              "    }\n",
              "\n",
              "    .dataframe thead th {\n",
              "        text-align: right;\n",
              "    }\n",
              "</style>\n",
              "<table border=\"1\" class=\"dataframe\">\n",
              "  <thead>\n",
              "    <tr style=\"text-align: right;\">\n",
              "      <th></th>\n",
              "      <th>ID</th>\n",
              "      <th>Name</th>\n",
              "      <th>CountryCode</th>\n",
              "      <th>District</th>\n",
              "      <th>Population</th>\n",
              "    </tr>\n",
              "  </thead>\n",
              "  <tbody>\n",
              "    <tr>\n",
              "      <th>0</th>\n",
              "      <td>1</td>\n",
              "      <td>Kabul</td>\n",
              "      <td>AFG</td>\n",
              "      <td>Kabol</td>\n",
              "      <td>1780000</td>\n",
              "    </tr>\n",
              "    <tr>\n",
              "      <th>1</th>\n",
              "      <td>2</td>\n",
              "      <td>Qandahar</td>\n",
              "      <td>AFG</td>\n",
              "      <td>Qandahar</td>\n",
              "      <td>237500</td>\n",
              "    </tr>\n",
              "    <tr>\n",
              "      <th>2</th>\n",
              "      <td>3</td>\n",
              "      <td>Herat</td>\n",
              "      <td>AFG</td>\n",
              "      <td>Herat</td>\n",
              "      <td>186800</td>\n",
              "    </tr>\n",
              "    <tr>\n",
              "      <th>3</th>\n",
              "      <td>4</td>\n",
              "      <td>Mazar-e-Sharif</td>\n",
              "      <td>AFG</td>\n",
              "      <td>Balkh</td>\n",
              "      <td>127800</td>\n",
              "    </tr>\n",
              "    <tr>\n",
              "      <th>4</th>\n",
              "      <td>5</td>\n",
              "      <td>Amsterdam</td>\n",
              "      <td>NLD</td>\n",
              "      <td>Noord-Holland</td>\n",
              "      <td>731200</td>\n",
              "    </tr>\n",
              "    <tr>\n",
              "      <th>...</th>\n",
              "      <td>...</td>\n",
              "      <td>...</td>\n",
              "      <td>...</td>\n",
              "      <td>...</td>\n",
              "      <td>...</td>\n",
              "    </tr>\n",
              "    <tr>\n",
              "      <th>4074</th>\n",
              "      <td>4075</td>\n",
              "      <td>Khan Yunis</td>\n",
              "      <td>PSE</td>\n",
              "      <td>Khan Yunis</td>\n",
              "      <td>123175</td>\n",
              "    </tr>\n",
              "    <tr>\n",
              "      <th>4075</th>\n",
              "      <td>4076</td>\n",
              "      <td>Hebron</td>\n",
              "      <td>PSE</td>\n",
              "      <td>Hebron</td>\n",
              "      <td>119401</td>\n",
              "    </tr>\n",
              "    <tr>\n",
              "      <th>4076</th>\n",
              "      <td>4077</td>\n",
              "      <td>Jabaliya</td>\n",
              "      <td>PSE</td>\n",
              "      <td>North Gaza</td>\n",
              "      <td>113901</td>\n",
              "    </tr>\n",
              "    <tr>\n",
              "      <th>4077</th>\n",
              "      <td>4078</td>\n",
              "      <td>Nablus</td>\n",
              "      <td>PSE</td>\n",
              "      <td>Nablus</td>\n",
              "      <td>100231</td>\n",
              "    </tr>\n",
              "    <tr>\n",
              "      <th>4078</th>\n",
              "      <td>4079</td>\n",
              "      <td>Rafah</td>\n",
              "      <td>PSE</td>\n",
              "      <td>Rafah</td>\n",
              "      <td>92020</td>\n",
              "    </tr>\n",
              "  </tbody>\n",
              "</table>\n",
              "<p>4079 rows × 5 columns</p>\n",
              "</div>\n",
              "    <div class=\"colab-df-buttons\">\n",
              "\n",
              "  <div class=\"colab-df-container\">\n",
              "    <button class=\"colab-df-convert\" onclick=\"convertToInteractive('df-614917cb-b104-4ce5-a73c-9ccb41257352')\"\n",
              "            title=\"Convert this dataframe to an interactive table.\"\n",
              "            style=\"display:none;\">\n",
              "\n",
              "  <svg xmlns=\"http://www.w3.org/2000/svg\" height=\"24px\" viewBox=\"0 -960 960 960\">\n",
              "    <path d=\"M120-120v-720h720v720H120Zm60-500h600v-160H180v160Zm220 220h160v-160H400v160Zm0 220h160v-160H400v160ZM180-400h160v-160H180v160Zm440 0h160v-160H620v160ZM180-180h160v-160H180v160Zm440 0h160v-160H620v160Z\"/>\n",
              "  </svg>\n",
              "    </button>\n",
              "\n",
              "  <style>\n",
              "    .colab-df-container {\n",
              "      display:flex;\n",
              "      gap: 12px;\n",
              "    }\n",
              "\n",
              "    .colab-df-convert {\n",
              "      background-color: #E8F0FE;\n",
              "      border: none;\n",
              "      border-radius: 50%;\n",
              "      cursor: pointer;\n",
              "      display: none;\n",
              "      fill: #1967D2;\n",
              "      height: 32px;\n",
              "      padding: 0 0 0 0;\n",
              "      width: 32px;\n",
              "    }\n",
              "\n",
              "    .colab-df-convert:hover {\n",
              "      background-color: #E2EBFA;\n",
              "      box-shadow: 0px 1px 2px rgba(60, 64, 67, 0.3), 0px 1px 3px 1px rgba(60, 64, 67, 0.15);\n",
              "      fill: #174EA6;\n",
              "    }\n",
              "\n",
              "    .colab-df-buttons div {\n",
              "      margin-bottom: 4px;\n",
              "    }\n",
              "\n",
              "    [theme=dark] .colab-df-convert {\n",
              "      background-color: #3B4455;\n",
              "      fill: #D2E3FC;\n",
              "    }\n",
              "\n",
              "    [theme=dark] .colab-df-convert:hover {\n",
              "      background-color: #434B5C;\n",
              "      box-shadow: 0px 1px 3px 1px rgba(0, 0, 0, 0.15);\n",
              "      filter: drop-shadow(0px 1px 2px rgba(0, 0, 0, 0.3));\n",
              "      fill: #FFFFFF;\n",
              "    }\n",
              "  </style>\n",
              "\n",
              "    <script>\n",
              "      const buttonEl =\n",
              "        document.querySelector('#df-614917cb-b104-4ce5-a73c-9ccb41257352 button.colab-df-convert');\n",
              "      buttonEl.style.display =\n",
              "        google.colab.kernel.accessAllowed ? 'block' : 'none';\n",
              "\n",
              "      async function convertToInteractive(key) {\n",
              "        const element = document.querySelector('#df-614917cb-b104-4ce5-a73c-9ccb41257352');\n",
              "        const dataTable =\n",
              "          await google.colab.kernel.invokeFunction('convertToInteractive',\n",
              "                                                    [key], {});\n",
              "        if (!dataTable) return;\n",
              "\n",
              "        const docLinkHtml = 'Like what you see? Visit the ' +\n",
              "          '<a target=\"_blank\" href=https://colab.research.google.com/notebooks/data_table.ipynb>data table notebook</a>'\n",
              "          + ' to learn more about interactive tables.';\n",
              "        element.innerHTML = '';\n",
              "        dataTable['output_type'] = 'display_data';\n",
              "        await google.colab.output.renderOutput(dataTable, element);\n",
              "        const docLink = document.createElement('div');\n",
              "        docLink.innerHTML = docLinkHtml;\n",
              "        element.appendChild(docLink);\n",
              "      }\n",
              "    </script>\n",
              "  </div>\n",
              "\n",
              "\n",
              "    <div id=\"df-56f78eeb-7382-454a-8a98-4398081709ac\">\n",
              "      <button class=\"colab-df-quickchart\" onclick=\"quickchart('df-56f78eeb-7382-454a-8a98-4398081709ac')\"\n",
              "                title=\"Suggest charts\"\n",
              "                style=\"display:none;\">\n",
              "\n",
              "<svg xmlns=\"http://www.w3.org/2000/svg\" height=\"24px\"viewBox=\"0 0 24 24\"\n",
              "     width=\"24px\">\n",
              "    <g>\n",
              "        <path d=\"M19 3H5c-1.1 0-2 .9-2 2v14c0 1.1.9 2 2 2h14c1.1 0 2-.9 2-2V5c0-1.1-.9-2-2-2zM9 17H7v-7h2v7zm4 0h-2V7h2v10zm4 0h-2v-4h2v4z\"/>\n",
              "    </g>\n",
              "</svg>\n",
              "      </button>\n",
              "\n",
              "<style>\n",
              "  .colab-df-quickchart {\n",
              "      --bg-color: #E8F0FE;\n",
              "      --fill-color: #1967D2;\n",
              "      --hover-bg-color: #E2EBFA;\n",
              "      --hover-fill-color: #174EA6;\n",
              "      --disabled-fill-color: #AAA;\n",
              "      --disabled-bg-color: #DDD;\n",
              "  }\n",
              "\n",
              "  [theme=dark] .colab-df-quickchart {\n",
              "      --bg-color: #3B4455;\n",
              "      --fill-color: #D2E3FC;\n",
              "      --hover-bg-color: #434B5C;\n",
              "      --hover-fill-color: #FFFFFF;\n",
              "      --disabled-bg-color: #3B4455;\n",
              "      --disabled-fill-color: #666;\n",
              "  }\n",
              "\n",
              "  .colab-df-quickchart {\n",
              "    background-color: var(--bg-color);\n",
              "    border: none;\n",
              "    border-radius: 50%;\n",
              "    cursor: pointer;\n",
              "    display: none;\n",
              "    fill: var(--fill-color);\n",
              "    height: 32px;\n",
              "    padding: 0;\n",
              "    width: 32px;\n",
              "  }\n",
              "\n",
              "  .colab-df-quickchart:hover {\n",
              "    background-color: var(--hover-bg-color);\n",
              "    box-shadow: 0 1px 2px rgba(60, 64, 67, 0.3), 0 1px 3px 1px rgba(60, 64, 67, 0.15);\n",
              "    fill: var(--button-hover-fill-color);\n",
              "  }\n",
              "\n",
              "  .colab-df-quickchart-complete:disabled,\n",
              "  .colab-df-quickchart-complete:disabled:hover {\n",
              "    background-color: var(--disabled-bg-color);\n",
              "    fill: var(--disabled-fill-color);\n",
              "    box-shadow: none;\n",
              "  }\n",
              "\n",
              "  .colab-df-spinner {\n",
              "    border: 2px solid var(--fill-color);\n",
              "    border-color: transparent;\n",
              "    border-bottom-color: var(--fill-color);\n",
              "    animation:\n",
              "      spin 1s steps(1) infinite;\n",
              "  }\n",
              "\n",
              "  @keyframes spin {\n",
              "    0% {\n",
              "      border-color: transparent;\n",
              "      border-bottom-color: var(--fill-color);\n",
              "      border-left-color: var(--fill-color);\n",
              "    }\n",
              "    20% {\n",
              "      border-color: transparent;\n",
              "      border-left-color: var(--fill-color);\n",
              "      border-top-color: var(--fill-color);\n",
              "    }\n",
              "    30% {\n",
              "      border-color: transparent;\n",
              "      border-left-color: var(--fill-color);\n",
              "      border-top-color: var(--fill-color);\n",
              "      border-right-color: var(--fill-color);\n",
              "    }\n",
              "    40% {\n",
              "      border-color: transparent;\n",
              "      border-right-color: var(--fill-color);\n",
              "      border-top-color: var(--fill-color);\n",
              "    }\n",
              "    60% {\n",
              "      border-color: transparent;\n",
              "      border-right-color: var(--fill-color);\n",
              "    }\n",
              "    80% {\n",
              "      border-color: transparent;\n",
              "      border-right-color: var(--fill-color);\n",
              "      border-bottom-color: var(--fill-color);\n",
              "    }\n",
              "    90% {\n",
              "      border-color: transparent;\n",
              "      border-bottom-color: var(--fill-color);\n",
              "    }\n",
              "  }\n",
              "</style>\n",
              "\n",
              "      <script>\n",
              "        async function quickchart(key) {\n",
              "          const quickchartButtonEl =\n",
              "            document.querySelector('#' + key + ' button');\n",
              "          quickchartButtonEl.disabled = true;  // To prevent multiple clicks.\n",
              "          quickchartButtonEl.classList.add('colab-df-spinner');\n",
              "          try {\n",
              "            const charts = await google.colab.kernel.invokeFunction(\n",
              "                'suggestCharts', [key], {});\n",
              "          } catch (error) {\n",
              "            console.error('Error during call to suggestCharts:', error);\n",
              "          }\n",
              "          quickchartButtonEl.classList.remove('colab-df-spinner');\n",
              "          quickchartButtonEl.classList.add('colab-df-quickchart-complete');\n",
              "        }\n",
              "        (() => {\n",
              "          let quickchartButtonEl =\n",
              "            document.querySelector('#df-56f78eeb-7382-454a-8a98-4398081709ac button');\n",
              "          quickchartButtonEl.style.display =\n",
              "            google.colab.kernel.accessAllowed ? 'block' : 'none';\n",
              "        })();\n",
              "      </script>\n",
              "    </div>\n",
              "\n",
              "  <div id=\"id_520ff874-08d7-4d3c-9832-8e04ab2b8712\">\n",
              "    <style>\n",
              "      .colab-df-generate {\n",
              "        background-color: #E8F0FE;\n",
              "        border: none;\n",
              "        border-radius: 50%;\n",
              "        cursor: pointer;\n",
              "        display: none;\n",
              "        fill: #1967D2;\n",
              "        height: 32px;\n",
              "        padding: 0 0 0 0;\n",
              "        width: 32px;\n",
              "      }\n",
              "\n",
              "      .colab-df-generate:hover {\n",
              "        background-color: #E2EBFA;\n",
              "        box-shadow: 0px 1px 2px rgba(60, 64, 67, 0.3), 0px 1px 3px 1px rgba(60, 64, 67, 0.15);\n",
              "        fill: #174EA6;\n",
              "      }\n",
              "\n",
              "      [theme=dark] .colab-df-generate {\n",
              "        background-color: #3B4455;\n",
              "        fill: #D2E3FC;\n",
              "      }\n",
              "\n",
              "      [theme=dark] .colab-df-generate:hover {\n",
              "        background-color: #434B5C;\n",
              "        box-shadow: 0px 1px 3px 1px rgba(0, 0, 0, 0.15);\n",
              "        filter: drop-shadow(0px 1px 2px rgba(0, 0, 0, 0.3));\n",
              "        fill: #FFFFFF;\n",
              "      }\n",
              "    </style>\n",
              "    <button class=\"colab-df-generate\" onclick=\"generateWithVariable('cities')\"\n",
              "            title=\"Generate code using this dataframe.\"\n",
              "            style=\"display:none;\">\n",
              "\n",
              "  <svg xmlns=\"http://www.w3.org/2000/svg\" height=\"24px\"viewBox=\"0 0 24 24\"\n",
              "       width=\"24px\">\n",
              "    <path d=\"M7,19H8.4L18.45,9,17,7.55,7,17.6ZM5,21V16.75L18.45,3.32a2,2,0,0,1,2.83,0l1.4,1.43a1.91,1.91,0,0,1,.58,1.4,1.91,1.91,0,0,1-.58,1.4L9.25,21ZM18.45,9,17,7.55Zm-12,3A5.31,5.31,0,0,0,4.9,8.1,5.31,5.31,0,0,0,1,6.5,5.31,5.31,0,0,0,4.9,4.9,5.31,5.31,0,0,0,6.5,1,5.31,5.31,0,0,0,8.1,4.9,5.31,5.31,0,0,0,12,6.5,5.46,5.46,0,0,0,6.5,12Z\"/>\n",
              "  </svg>\n",
              "    </button>\n",
              "    <script>\n",
              "      (() => {\n",
              "      const buttonEl =\n",
              "        document.querySelector('#id_520ff874-08d7-4d3c-9832-8e04ab2b8712 button.colab-df-generate');\n",
              "      buttonEl.style.display =\n",
              "        google.colab.kernel.accessAllowed ? 'block' : 'none';\n",
              "\n",
              "      buttonEl.onclick = () => {\n",
              "        google.colab.notebook.generateWithVariable('cities');\n",
              "      }\n",
              "      })();\n",
              "    </script>\n",
              "  </div>\n",
              "\n",
              "    </div>\n",
              "  </div>\n"
            ],
            "application/vnd.google.colaboratory.intrinsic+json": {
              "type": "dataframe",
              "variable_name": "cities",
              "summary": "{\n  \"name\": \"cities\",\n  \"rows\": 4079,\n  \"fields\": [\n    {\n      \"column\": \"ID\",\n      \"properties\": {\n        \"dtype\": \"number\",\n        \"std\": 1177,\n        \"min\": 1,\n        \"max\": 4079,\n        \"num_unique_values\": 4079,\n        \"samples\": [\n          34,\n          3234,\n          1557\n        ],\n        \"semantic_type\": \"\",\n        \"description\": \"\"\n      }\n    },\n    {\n      \"column\": \"Name\",\n      \"properties\": {\n        \"dtype\": \"string\",\n        \"num_unique_values\": 4001,\n        \"samples\": [\n          \"Vi\\u00f1a del Mar\",\n          \"Sukkur\",\n          \"Hartlepool\"\n        ],\n        \"semantic_type\": \"\",\n        \"description\": \"\"\n      }\n    },\n    {\n      \"column\": \"CountryCode\",\n      \"properties\": {\n        \"dtype\": \"category\",\n        \"num_unique_values\": 232,\n        \"samples\": [\n          \"UZB\",\n          \"HTI\",\n          \"ATG\"\n        ],\n        \"semantic_type\": \"\",\n        \"description\": \"\"\n      }\n    },\n    {\n      \"column\": \"District\",\n      \"properties\": {\n        \"dtype\": \"category\",\n        \"num_unique_values\": 1366,\n        \"samples\": [\n          \"Hanti-Mansia\",\n          \"Castries\",\n          \"Ashanti\"\n        ],\n        \"semantic_type\": \"\",\n        \"description\": \"\"\n      }\n    },\n    {\n      \"column\": \"Population\",\n      \"properties\": {\n        \"dtype\": \"number\",\n        \"std\": 723775,\n        \"min\": 42,\n        \"max\": 10500000,\n        \"num_unique_values\": 3897,\n        \"samples\": [\n          234403,\n          12433,\n          182148\n        ],\n        \"semantic_type\": \"\",\n        \"description\": \"\"\n      }\n    }\n  ]\n}"
            }
          },
          "metadata": {},
          "execution_count": 7
        }
      ],
      "source": [
        "cities = pd.read_csv('/content/drive/MyDrive/Colab Notebooks/UFO/world_table_city.csv')\n",
        "cities"
      ]
    },
    {
      "cell_type": "markdown",
      "metadata": {
        "id": "lOixpTny-G0I"
      },
      "source": [
        "*   Realizar un análisis de la estructura de `countries`\n"
      ]
    },
    {
      "cell_type": "code",
      "source": [],
      "metadata": {
        "id": "C31hd8O3xxJJ"
      },
      "execution_count": null,
      "outputs": []
    },
    {
      "cell_type": "markdown",
      "metadata": {
        "id": "m7KpcLwX-QpK"
      },
      "source": [
        "\n",
        "*   Explorar el contenido de `countries`\n",
        "\n"
      ]
    },
    {
      "cell_type": "code",
      "source": [],
      "metadata": {
        "id": "b68LNdyCxzuE"
      },
      "execution_count": null,
      "outputs": []
    },
    {
      "cell_type": "markdown",
      "metadata": {
        "id": "1vgaInl3-ebf"
      },
      "source": [
        "*   Borrar los registros que tengan `NaN` en la columna `Capital`\n"
      ]
    },
    {
      "cell_type": "code",
      "source": [],
      "metadata": {
        "id": "4zETutJJx1P7"
      },
      "execution_count": null,
      "outputs": []
    },
    {
      "cell_type": "markdown",
      "metadata": {
        "id": "aUQRuM9K-qln"
      },
      "source": [
        "*   Ejecutar el mismo análisis con `cities`\n"
      ]
    },
    {
      "cell_type": "code",
      "source": [],
      "metadata": {
        "id": "CQV9moIHxYI4"
      },
      "execution_count": null,
      "outputs": []
    },
    {
      "cell_type": "markdown",
      "metadata": {
        "id": "WioWFI8H-1Z6"
      },
      "source": [
        "\n",
        "\n",
        "*   Combinar ambos dataframes\n",
        "\n",
        "\n"
      ]
    },
    {
      "cell_type": "code",
      "source": [],
      "metadata": {
        "id": "0xkopLaSx2XP"
      },
      "execution_count": null,
      "outputs": []
    },
    {
      "cell_type": "markdown",
      "metadata": {
        "id": "FwIhsEsrf3Mc"
      },
      "source": [
        "## 1.2 Distribuciones y estadísticas"
      ]
    },
    {
      "cell_type": "markdown",
      "metadata": {
        "id": "X4qg_BHD_b7f"
      },
      "source": [
        "*   ¿Cuál es el promedio de población para el conjunto de países analizados?"
      ]
    },
    {
      "cell_type": "code",
      "source": [],
      "metadata": {
        "id": "tP_3-8I7x36e"
      },
      "execution_count": null,
      "outputs": []
    },
    {
      "cell_type": "markdown",
      "metadata": {
        "id": "ZHdnJWFw_md5"
      },
      "source": [
        "*   ¿Qué superficie territorial tiene el país más pequeño? ¿Y el más grande?"
      ]
    },
    {
      "cell_type": "code",
      "source": [],
      "metadata": {
        "id": "dUD8dLIxx4zw"
      },
      "execution_count": null,
      "outputs": []
    },
    {
      "cell_type": "markdown",
      "metadata": {
        "id": "9cL6CJ22_wcw"
      },
      "source": [
        "*   ¿Cuál es la desviación estándar de la expectativa de vida?"
      ]
    },
    {
      "cell_type": "code",
      "source": [],
      "metadata": {
        "id": "w5TeOdbKx7eV"
      },
      "execution_count": null,
      "outputs": []
    },
    {
      "cell_type": "markdown",
      "metadata": {
        "id": "lHbKcOjn_9po"
      },
      "source": [
        "*   ¿Qué significa que para el año de independencia está 1974 en el 3er cuartil (75%)?"
      ]
    },
    {
      "cell_type": "code",
      "source": [],
      "metadata": {
        "id": "dUCZ-wbgx9Nj"
      },
      "execution_count": null,
      "outputs": []
    },
    {
      "cell_type": "markdown",
      "metadata": {
        "id": "FG-ArPfXJCZ-"
      },
      "source": [
        "# **TEMA 2. Plataformas de visualización en Python**"
      ]
    },
    {
      "cell_type": "code",
      "execution_count": null,
      "metadata": {
        "id": "xh6Z2oqgJXSU"
      },
      "outputs": [],
      "source": [
        "import pandas as pd\n",
        "import matplotlib.pyplot as plt\n",
        "import seaborn as sns"
      ]
    },
    {
      "cell_type": "markdown",
      "metadata": {
        "id": "bOR1-vzyoabs"
      },
      "source": [
        "## 2.1 Trazado básico y personalización de la estética"
      ]
    },
    {
      "cell_type": "markdown",
      "metadata": {
        "id": "IfpzJFMID_OA"
      },
      "source": [
        "*   Generar un nuevo dataframe (`sample`) con los 6 primeros registros de `countries` y dejando únicamente las columnas `Name` y `Population`"
      ]
    },
    {
      "cell_type": "code",
      "source": [],
      "metadata": {
        "id": "CQNlykGPx-0r"
      },
      "execution_count": null,
      "outputs": []
    },
    {
      "cell_type": "markdown",
      "metadata": {
        "id": "8hqxHtduEO6K"
      },
      "source": [
        "*   Hacer que `Name` sea el índice"
      ]
    },
    {
      "cell_type": "code",
      "source": [],
      "metadata": {
        "id": "-GsvxQ69x_lW"
      },
      "execution_count": null,
      "outputs": []
    },
    {
      "cell_type": "markdown",
      "metadata": {
        "id": "OeZ3aYu7EZOQ"
      },
      "source": [
        "*   Visualizar `sample` usando las tres plataformas de trazado"
      ]
    },
    {
      "cell_type": "code",
      "source": [],
      "metadata": {
        "id": "DYVOvStbyBQr"
      },
      "execution_count": null,
      "outputs": []
    },
    {
      "cell_type": "markdown",
      "metadata": {
        "id": "p9cvHKvoEk-b"
      },
      "source": [
        "*   Cambiar las propiedades: `title`, `grid`, `legend`, `xlabel`, `ylabel`, `rot`, `fontsize`, `color`, `marker` y `linestyle` de la gráfica generada con Pandas"
      ]
    },
    {
      "cell_type": "code",
      "source": [],
      "metadata": {
        "id": "uLnw0gj3yCjt"
      },
      "execution_count": null,
      "outputs": []
    },
    {
      "cell_type": "markdown",
      "metadata": {
        "id": "4nZKwxVZFCJZ"
      },
      "source": [
        "*   Probar con otro dataframe (`sample2`) que almacene los 6 primeros registros de `countries`, pero con todas sus columnas"
      ]
    },
    {
      "cell_type": "code",
      "source": [],
      "metadata": {
        "id": "4H2jnYPIyEKD"
      },
      "execution_count": null,
      "outputs": []
    },
    {
      "cell_type": "markdown",
      "metadata": {
        "id": "MBNKdd4zFIHg"
      },
      "source": [
        "*   Cambiar el tipo de gráfico a barras usando el argumento `kind`"
      ]
    },
    {
      "cell_type": "code",
      "source": [],
      "metadata": {
        "id": "tnV4zsg7yGxR"
      },
      "execution_count": null,
      "outputs": []
    },
    {
      "cell_type": "markdown",
      "metadata": {
        "id": "xzGEfsVdwQVb"
      },
      "source": [
        "## 2.2 Agrupamiento y filtrado"
      ]
    },
    {
      "cell_type": "markdown",
      "metadata": {
        "id": "O1eaFtUhGfsD"
      },
      "source": [
        "*   Generar un nuevo dataframe (`population_by_continent`) con el resultado de agrupar la columna `Population` con el total por continente"
      ]
    },
    {
      "cell_type": "code",
      "source": [],
      "metadata": {
        "id": "miJ25loGyH8i"
      },
      "execution_count": null,
      "outputs": []
    },
    {
      "cell_type": "markdown",
      "metadata": {
        "id": "1rhWMGbCG4JY"
      },
      "source": [
        "*   Graficar los resultados usando un gráfico pie de Pandas"
      ]
    },
    {
      "cell_type": "code",
      "source": [],
      "metadata": {
        "id": "Z3HUzdAGyI9X"
      },
      "execution_count": null,
      "outputs": []
    },
    {
      "cell_type": "markdown",
      "metadata": {
        "id": "sZ8C_e3nHB9Y"
      },
      "source": [
        "*   Graficar el número de países por continente usando la función `countplot() `de Seaborn"
      ]
    },
    {
      "cell_type": "code",
      "source": [],
      "metadata": {
        "id": "NvDy8NOpyJyf"
      },
      "execution_count": null,
      "outputs": []
    },
    {
      "cell_type": "markdown",
      "metadata": {
        "id": "ogFCua_DHIpR"
      },
      "source": [
        "*   Cambiar la paleta de colores y el tema con Seaborn"
      ]
    },
    {
      "cell_type": "code",
      "source": [],
      "metadata": {
        "id": "pR9c5WWbyK8r"
      },
      "execution_count": null,
      "outputs": []
    },
    {
      "cell_type": "markdown",
      "metadata": {
        "id": "RxGrHlm4Jf9G"
      },
      "source": [
        "# **TEMA 3. Gráficas superpuestas**"
      ]
    },
    {
      "cell_type": "markdown",
      "metadata": {
        "id": "l3Ei3iAZxpQE"
      },
      "source": [
        "##3.1 Compartiendo ambos ejes"
      ]
    },
    {
      "cell_type": "markdown",
      "metadata": {
        "id": "Ue8witHWH0mF"
      },
      "source": [
        "*   Generar un nuevo dataframe (`gnp_by_continent`) con el resultado de agrupar las columnas `GNP` y `GNPOld` con el promedio por continente"
      ]
    },
    {
      "cell_type": "code",
      "source": [],
      "metadata": {
        "id": "W7P8K0-JyMX3"
      },
      "execution_count": null,
      "outputs": []
    },
    {
      "cell_type": "markdown",
      "metadata": {
        "id": "KxQFrd7oH_1O"
      },
      "source": [
        "*   Graficar los resultados usando las tres plataformas de trazado"
      ]
    },
    {
      "cell_type": "code",
      "source": [],
      "metadata": {
        "id": "eG0F45icyOhk"
      },
      "execution_count": null,
      "outputs": []
    },
    {
      "cell_type": "markdown",
      "source": [
        "## 3.2 Compartiendo el eje horizontal con ejes verticales independientes"
      ],
      "metadata": {
        "id": "7u-fADhbwhGR"
      }
    },
    {
      "cell_type": "markdown",
      "source": [
        "*   Generar un nuevo dataframe (`summary_by_continent`) con el resultado de agrupar las columnas `LifeExpectancy` y `GNP` con el promedio por continente"
      ],
      "metadata": {
        "id": "4RU_B5Mwwlfw"
      }
    },
    {
      "cell_type": "code",
      "source": [],
      "metadata": {
        "id": "X61XV2uPyQR1"
      },
      "execution_count": null,
      "outputs": []
    },
    {
      "cell_type": "markdown",
      "source": [
        "*   Graficar `LifeExpectancy` en el eje vertical izquierdo con color azul\n",
        "*   Crear un eje vertical dual o secundario\n",
        "*   Graficar GNP en el eje vertical derecho con color verde"
      ],
      "metadata": {
        "id": "MMpqdzHlwtX5"
      }
    },
    {
      "cell_type": "code",
      "source": [],
      "metadata": {
        "id": "nD12CulTyRcU"
      },
      "execution_count": null,
      "outputs": []
    }
  ],
  "metadata": {
    "colab": {
      "provenance": []
    },
    "kernelspec": {
      "display_name": "Python 3",
      "name": "python3"
    },
    "language_info": {
      "name": "python"
    }
  },
  "nbformat": 4,
  "nbformat_minor": 0
}